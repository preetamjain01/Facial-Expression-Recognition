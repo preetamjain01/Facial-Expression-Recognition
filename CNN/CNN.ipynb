{
 "cells": [
  {
   "cell_type": "markdown",
   "metadata": {
    "colab_type": "text",
    "id": "37v9LhnzXOq_"
   },
   "source": [
    "# Facial Expression Recognition using CNN - Part  1/3 "
   ]
  },
  {
   "cell_type": "markdown",
   "metadata": {
    "colab_type": "text",
    "id": "PAj_dOwEXSCx"
   },
   "source": [
    "## Abstract\n",
    "\n",
    "* This project is about Facial Expression Recognition using Convolutional Neural Network, VGG19 CNN and Residual Networks:\n",
    "    * Computer animated agents and robots bring new dimension in human computer interaction which makes it vital as how computers can affect our social life in day-to-day activities. Face to face communication is a real-time process operating at a time scale in the order of milliseconds. The level of uncertainty at this time scale is considerable, making it necessary for humans and machines to rely on sensory rich perceptual primitives rather than slow symbolic inference processes. In this project we are presenting the real time facial expression recognition of seven most basic human expressions: ANGER, DISGUST, FEAR, HAPPY, NEUTRAL, SAD, SURPRISE.\n",
    "    \n",
    "* We implement Convolutional Neural Network in this part\n",
    "\n",
    "\n",
    "### Dataset Introduction\n",
    "\n",
    "* The dataset we have chosen is Facial Expression Recognition fer2013.\n",
    "* The training set consists of 28,709 examples. The public test set consists of 3,589 examples. The final test set, consists of another 3,589 examples.\n",
    "* The data consists of 48x48 pixel grayscale images of faces. \n",
    "* The faces have been automatically registered so that the face is more or less centered and occupies about the same amount of space in each image. \n",
    "* The task is to categorize each face based on the emotion shown in the facial expression in to one of seven categories (0=Angry, 1=Disgust, 2=Fear, 3=Happy, 4=Sad, 5=Surprise, 6=Neutral).\n",
    "* The \"emotion\" column contains a numeric code ranging from 0 to 6, inclusive, for the emotion that is present in the image. The \"pixels\" column contains a string surrounded in quotes for each image. The contents of this string a space-separated pixel values in row major order. Our task is to predict the \"emotion\" column.\n",
    "* This dataset was prepared by Pierre-Luc Carrier and Aaron Courville, as part of an ongoing research project. They have graciously provided the workshop organizers with a preliminary version of their dataset to use for this contest.\n",
    "* Link to the dataset - https://www.kaggle.com/c/challenges-in-representation-learning-facial-expression-recognition-challenge/data\n",
    "\n",
    "`Conclusion` - We train CNN Sequential model on certain parameters, resulting in the value of accuracy (which is how our goodness of model is evaluated)  as `57.2%`. And thus helping us in making the comparison to different models."
   ]
  },
  {
   "cell_type": "markdown",
   "metadata": {},
   "source": [
    "## Project Implementation"
   ]
  },
  {
   "cell_type": "markdown",
   "metadata": {
    "colab_type": "text",
    "id": "f3jhS9cXXY9J"
   },
   "source": [
    "### Part 1 - CNN\n",
    "\n",
    "* In deep learning, a convolutional neural network (CNN, or ConvNet) is a class of deep neural networks, most commonly applied to analyzing visual imagery.\n",
    "* These are a special class of Multilayer perceptron which are well suited for pattern classification. It is specifically designed to recognize 2D shapes with a high level of invariance, skewing and scaling. They are made up of neurons that have learnable weights and biases. Each neuron receives some input, performs a dot product and optionally follows it with a non-linearity. The whole network still expresses a single differentiable score function: from the raw image pixels on one end to class scores at the other. A simple ConvNet is a sequence of layers, and every layer of a ConvNet transforms one volume of activations to another through a differentiable function. There are three main types of layers to build ConvNet architectures: Convolutional Layer, Pooling Layer, and Fully-Connected Layer"
   ]
  },
  {
   "cell_type": "markdown",
   "metadata": {},
   "source": [
    "#### TensorFlow:\n",
    "\n",
    "TensorFlow is an open source software library for high performance numerical computation. Its flexible architecture allows easy deployment of computation across a variety of platforms (CPUs, GPUs, TPUs), and from desktops to clusters of servers to mobile and edge devices"
   ]
  },
  {
   "cell_type": "code",
   "execution_count": 0,
   "metadata": {
    "colab": {
     "base_uri": "https://localhost:8080/",
     "height": 34
    },
    "colab_type": "code",
    "id": "Vhw1VEDFbOMp",
    "outputId": "b52a8bc9-2e85-4f41-88aa-bc823ec47453"
   },
   "outputs": [
    {
     "name": "stderr",
     "output_type": "stream",
     "text": [
      "Using TensorFlow backend.\n"
     ]
    }
   ],
   "source": [
    "import tensorflow as tf\n",
    "\n",
    "import keras\n",
    "from keras.models import Sequential\n",
    "from keras.layers import Conv2D, MaxPooling2D, AveragePooling2D, BatchNormalization\n",
    "from keras.layers import Dense, Activation, Dropout, Flatten\n",
    "\n",
    "from keras.preprocessing import image\n",
    "from keras.preprocessing.image import ImageDataGenerator\n",
    "\n",
    "import numpy as np\n",
    "import matplotlib.pyplot as plt\n",
    "\n",
    "#cpu - gpu configuration\n",
    "config = tf.ConfigProto( device_count = {'GPU': 1, 'CPU': 56} ) #Providing GPU\n",
    "tf.reset_default_graph() #This will reset the current loaded graph to avoid issues\n",
    "sess = tf.Session(config=config) \n",
    "keras.backend.set_session(sess)\n",
    "num_classes = 7 #angry, disgust, fear, happy, sad, surprise, neutral\n",
    "batch_size = 256\n",
    "epochs = 100"
   ]
  },
  {
   "cell_type": "markdown",
   "metadata": {},
   "source": [
    "* On a typical system, there are multiple computing devices. In TensorFlow, the supported device types are CPU and GPU. They are represented as strings. For example:\n",
    "\n",
    "    * \"/cpu:0\": The CPU of your machine.\n",
    "    * \"/device:GPU:0\": The GPU of your machine, if you have one.\n",
    "    * \"/device:GPU:1\": The second GPU of your machine, etc.\n",
    "If a TensorFlow operation has both CPU and GPU implementations, the GPU devices will be given priority when the operation is assigned to a device."
   ]
  },
  {
   "cell_type": "code",
   "execution_count": 0,
   "metadata": {
    "colab": {},
    "colab_type": "code",
    "id": "B3GKdTKSbPPK"
   },
   "outputs": [],
   "source": [
    "#read the dataset\n",
    "with open(\"../fer2013.csv\") as f:\n",
    "    content = f.readlines()\n",
    "#Converting lines to array as the lines represent the pixels\n",
    "lines = np.array(content)\n",
    "\n",
    "num_of_instances = lines.size"
   ]
  },
  {
   "cell_type": "markdown",
   "metadata": {},
   "source": [
    "* The method readlines() reads until EOF using readline() and returns a list containing the lines.\n",
    "* Then np.array() creates an array of the list containing the lines from above."
   ]
  },
  {
   "cell_type": "code",
   "execution_count": 0,
   "metadata": {
    "colab": {},
    "colab_type": "code",
    "id": "N5y1adembT7S"
   },
   "outputs": [],
   "source": [
    "x_train, y_train, x_test, y_test = [], [], [], []\n",
    "\n",
    "#creating training and testing data [4]\n",
    "for i in range(1,num_of_instances):\n",
    "    emotion, img, usage = lines[i].split(\",\")\n",
    "    val = img.split(\" \")\n",
    "            \n",
    "    pixels = np.array(val, 'float32')\n",
    "        \n",
    "    emotion = keras.utils.to_categorical(emotion, 7)\n",
    "    #Creating training and testing set\n",
    "    if 'Training' in usage:\n",
    "        y_train.append(emotion)\n",
    "        x_train.append(pixels)\n",
    "    elif 'PublicTest' in usage:\n",
    "        y_test.append(emotion)\n",
    "        x_test.append(pixels)"
   ]
  },
  {
   "cell_type": "markdown",
   "metadata": {},
   "source": [
    "* The split() method splits a string into a list by the given separator.\n",
    "* keras.utils.to_categorical() - Converts a class vector (integers) to binary class matrix."
   ]
  },
  {
   "cell_type": "code",
   "execution_count": 0,
   "metadata": {
    "colab": {
     "base_uri": "https://localhost:8080/",
     "height": 50
    },
    "colab_type": "code",
    "id": "0QDAjt7RfZbp",
    "outputId": "ad84e9ec-0011-4ab2-fa72-aba80eae51c5"
   },
   "outputs": [
    {
     "name": "stdout",
     "output_type": "stream",
     "text": [
      "28709 train samples\n",
      "3589 test samples\n"
     ]
    }
   ],
   "source": [
    "#data transformation for train and test sets\n",
    "x_train = np.array(x_train, 'float32')\n",
    "y_train = np.array(y_train, 'float32')\n",
    "x_test = np.array(x_test, 'float32')\n",
    "y_test = np.array(y_test, 'float32')\n",
    "\n",
    "x_train /= 255 #normalize inputs between [0, 1]\n",
    "x_test /= 255\n",
    "\n",
    "#Since the images are 48x48, reshaping the array to 48x48\n",
    "x_train = x_train.reshape(x_train.shape[0], 48, 48, 1)\n",
    "x_train = x_train.astype('float32')\n",
    "x_test = x_test.reshape(x_test.shape[0], 48, 48, 1)\n",
    "x_test = x_test.astype('float32')\n",
    "\n",
    "print(x_train.shape[0], 'train samples')\n",
    "print(x_test.shape[0], 'test samples')"
   ]
  },
  {
   "cell_type": "markdown",
   "metadata": {},
   "source": [
    "* The np.array() method creates an array of the given array like objects such as x_train, y_train, x_test and y_test into a desired data type 'float32'\n",
    "* .reshape() - Reshapes the images in the array object to 48x48 without changing its data."
   ]
  },
  {
   "cell_type": "code",
   "execution_count": 0,
   "metadata": {
    "colab": {
     "base_uri": "https://localhost:8080/",
     "height": 138
    },
    "colab_type": "code",
    "id": "Zp8OS0GOTNkI",
    "outputId": "e15e2df2-2f86-4510-af30-b81bec9dce98"
   },
   "outputs": [
    {
     "name": "stdout",
     "output_type": "stream",
     "text": [
      "WARNING:tensorflow:From /usr/local/lib/python3.6/dist-packages/tensorflow/python/framework/op_def_library.py:263: colocate_with (from tensorflow.python.framework.ops) is deprecated and will be removed in a future version.\n",
      "Instructions for updating:\n",
      "Colocations handled automatically by placer.\n",
      "WARNING:tensorflow:From /usr/local/lib/python3.6/dist-packages/keras/backend/tensorflow_backend.py:3445: calling dropout (from tensorflow.python.ops.nn_ops) with keep_prob is deprecated and will be removed in a future version.\n",
      "Instructions for updating:\n",
      "Please use `rate` instead of `keep_prob`. Rate should be set to `rate = 1 - keep_prob`.\n"
     ]
    }
   ],
   "source": [
    "#------------------------------\n",
    "#construct CNN structure\n",
    "model = Sequential()\n",
    "\n",
    "#1st Convolution layer\n",
    "model.add(Conv2D(64, (5, 5), activation='relu', input_shape=(48,48,1)))\n",
    "model.add(Conv2D(64, (5, 5), activation='relu'))\n",
    "model.add(BatchNormalization())\n",
    "model.add(MaxPooling2D(pool_size=(2,2), strides=(2, 2)))\n",
    "\n",
    "#2nd Convolution layer\n",
    "model.add(Conv2D(128, (3, 3), activation='relu'))\n",
    "model.add(Conv2D(128, (3, 3), activation='relu'))\n",
    "model.add(BatchNormalization())\n",
    "model.add(MaxPooling2D(pool_size=(2,2), strides=(2, 2)))\n",
    "\n",
    "#3rd Convolution layer\n",
    "model.add(Conv2D(256, (3, 3), activation='relu'))\n",
    "model.add(Conv2D(256, (3, 3), activation='relu'))\n",
    "model.add(BatchNormalization())\n",
    "model.add(MaxPooling2D(pool_size=(2,2), strides=(2, 2)))\n",
    "\n",
    "model.add(Flatten())\n",
    "\n",
    "#Fully Connected Layers\n",
    "\n",
    "model.add(Dense(1024))\n",
    "model.add(BatchNormalization())\n",
    "model.add(Activation('relu'))\n",
    "model.add(Dropout(0.3))\n",
    "model.add(Dense(1024))\n",
    "model.add(BatchNormalization())\n",
    "model.add(Activation('relu'))\n",
    "model.add(Dropout(0.3))\n",
    "\n",
    "model.add(Dense(num_classes, activation='softmax'))"
   ]
  },
  {
   "cell_type": "markdown",
   "metadata": {},
   "source": [
    "#### Baseline CNN model\n",
    "\n",
    "We try to train one small CNN with a few layers and few filters per layer on our data, which is a VGG-like convnet and we resize the image to 48x48 in order to train it on our own computer cpu.\n",
    "\n",
    "A convnet takes an image expressed as an array of numbers, applies a series of operations to that array and, at the end, returns the probability that an object in the image belongs to a particular class of objects.\n",
    "\n",
    "This CNN has 3 convolutional layers and uses ReLU(rectified linear units) activation function. And it uses maxpooling layers for downsampling and dropout layers to reduce overfitting by a layer from seeing twice the exact same pattern.\n",
    "\n",
    "We set the parameters of the first convolutional layers in the first block to 64 filters and the kernal size is 5x5 and the filter number in convolutional layers of the second block is 128 with the size 3x3 and in third block is 256 with the size of 3x3 in order to fit our dataset.\n",
    "\n",
    "We use Relu, the function f(x) = max(0, x), as our nonlinearity layer because it makes the network train faster and can reduce vanishing gradient problem, which is the issue where the lower layers of the network train very slowly because the gradient decreases exponentially through the layers.\n",
    "\n",
    "And also dropout layer “drops out” a random set of activations in that layer by setting them to zero."
   ]
  },
  {
   "cell_type": "code",
   "execution_count": 0,
   "metadata": {
    "colab": {
     "base_uri": "https://localhost:8080/",
     "height": 3464
    },
    "colab_type": "code",
    "id": "WfYgNG-ITNkL",
    "outputId": "6061662f-56d8-4520-adf0-ddb6a86f4eb3"
   },
   "outputs": [
    {
     "name": "stdout",
     "output_type": "stream",
     "text": [
      "WARNING:tensorflow:From /usr/local/lib/python3.6/dist-packages/tensorflow/python/ops/math_ops.py:3066: to_int32 (from tensorflow.python.ops.math_ops) is deprecated and will be removed in a future version.\n",
      "Instructions for updating:\n",
      "Use tf.cast instead.\n",
      "Epoch 1/100\n",
      "256/256 [==============================] - 28s 110ms/step - loss: 1.6280 - acc: 0.3928\n",
      "Epoch 2/100\n",
      "256/256 [==============================] - 24s 93ms/step - loss: 1.2104 - acc: 0.5527\n",
      "Epoch 3/100\n",
      "256/256 [==============================] - 24s 94ms/step - loss: 1.0056 - acc: 0.6352\n",
      "Epoch 4/100\n",
      "256/256 [==============================] - 24s 95ms/step - loss: 0.7478 - acc: 0.7235\n",
      "Epoch 5/100\n",
      "256/256 [==============================] - 24s 95ms/step - loss: 0.4180 - acc: 0.8466\n",
      "Epoch 6/100\n",
      "256/256 [==============================] - 24s 94ms/step - loss: 0.2449 - acc: 0.9133\n",
      "Epoch 7/100\n",
      "256/256 [==============================] - 24s 95ms/step - loss: 0.1399 - acc: 0.9531\n",
      "Epoch 8/100\n",
      "256/256 [==============================] - 24s 95ms/step - loss: 0.1001 - acc: 0.9671\n",
      "Epoch 9/100\n",
      "256/256 [==============================] - 25s 96ms/step - loss: 0.0992 - acc: 0.9673\n",
      "Epoch 10/100\n",
      "256/256 [==============================] - 25s 96ms/step - loss: 0.0821 - acc: 0.9730\n",
      "Epoch 11/100\n",
      "256/256 [==============================] - 24s 95ms/step - loss: 0.0554 - acc: 0.9820\n",
      "Epoch 12/100\n",
      "256/256 [==============================] - 24s 95ms/step - loss: 0.0382 - acc: 0.9877\n",
      "Epoch 13/100\n",
      "256/256 [==============================] - 25s 96ms/step - loss: 0.0892 - acc: 0.9682\n",
      "Epoch 14/100\n",
      "256/256 [==============================] - 24s 95ms/step - loss: 0.0545 - acc: 0.9816\n",
      "Epoch 15/100\n",
      "256/256 [==============================] - 24s 95ms/step - loss: 0.0768 - acc: 0.9737\n",
      "Epoch 16/100\n",
      "256/256 [==============================] - 24s 95ms/step - loss: 0.0323 - acc: 0.9888\n",
      "Epoch 17/100\n",
      "256/256 [==============================] - 24s 96ms/step - loss: 0.0293 - acc: 0.9900\n",
      "Epoch 18/100\n",
      "256/256 [==============================] - 24s 96ms/step - loss: 0.0761 - acc: 0.9738\n",
      "Epoch 19/100\n",
      "256/256 [==============================] - 24s 95ms/step - loss: 0.0399 - acc: 0.9861\n",
      "Epoch 20/100\n",
      "256/256 [==============================] - 25s 96ms/step - loss: 0.0384 - acc: 0.9870\n",
      "Epoch 21/100\n",
      "256/256 [==============================] - 24s 95ms/step - loss: 0.0543 - acc: 0.9820\n",
      "Epoch 22/100\n",
      "256/256 [==============================] - 24s 95ms/step - loss: 0.0211 - acc: 0.9930\n",
      "Epoch 23/100\n",
      "256/256 [==============================] - 24s 95ms/step - loss: 0.0144 - acc: 0.9948\n",
      "Epoch 24/100\n",
      "256/256 [==============================] - 24s 95ms/step - loss: 0.0774 - acc: 0.9746\n",
      "Epoch 25/100\n",
      "256/256 [==============================] - 24s 95ms/step - loss: 0.0469 - acc: 0.9835\n",
      "Epoch 26/100\n",
      "256/256 [==============================] - 24s 95ms/step - loss: 0.0220 - acc: 0.9918\n",
      "Epoch 27/100\n",
      "256/256 [==============================] - 24s 95ms/step - loss: 0.0444 - acc: 0.9844\n",
      "Epoch 28/100\n",
      "256/256 [==============================] - 24s 95ms/step - loss: 0.0374 - acc: 0.9870\n",
      "Epoch 29/100\n",
      "256/256 [==============================] - 24s 95ms/step - loss: 0.0434 - acc: 0.9859\n",
      "Epoch 30/100\n",
      "256/256 [==============================] - 24s 95ms/step - loss: 0.0321 - acc: 0.9895\n",
      "Epoch 31/100\n",
      "256/256 [==============================] - 24s 95ms/step - loss: 0.0197 - acc: 0.9927\n",
      "Epoch 32/100\n",
      "256/256 [==============================] - 24s 96ms/step - loss: 0.0249 - acc: 0.9909\n",
      "Epoch 33/100\n",
      "256/256 [==============================] - 24s 95ms/step - loss: 0.0496 - acc: 0.9825\n",
      "Epoch 34/100\n",
      "256/256 [==============================] - 24s 95ms/step - loss: 0.0215 - acc: 0.9921\n",
      "Epoch 35/100\n",
      "256/256 [==============================] - 24s 95ms/step - loss: 0.0120 - acc: 0.9954\n",
      "Epoch 36/100\n",
      "256/256 [==============================] - 24s 95ms/step - loss: 0.0593 - acc: 0.9801\n",
      "Epoch 37/100\n",
      "256/256 [==============================] - 24s 95ms/step - loss: 0.0192 - acc: 0.9926\n",
      "Epoch 38/100\n",
      "256/256 [==============================] - 24s 95ms/step - loss: 0.0122 - acc: 0.9949\n",
      "Epoch 39/100\n",
      "256/256 [==============================] - 24s 95ms/step - loss: 0.0315 - acc: 0.9890\n",
      "Epoch 40/100\n",
      "256/256 [==============================] - 24s 95ms/step - loss: 0.0336 - acc: 0.9879\n",
      "Epoch 41/100\n",
      "256/256 [==============================] - 24s 95ms/step - loss: 0.0162 - acc: 0.9938\n",
      "Epoch 42/100\n",
      "256/256 [==============================] - 24s 94ms/step - loss: 0.0414 - acc: 0.9861\n",
      "Epoch 43/100\n",
      "256/256 [==============================] - 24s 95ms/step - loss: 0.0409 - acc: 0.9865\n",
      "Epoch 44/100\n",
      "256/256 [==============================] - 24s 95ms/step - loss: 0.0247 - acc: 0.9915\n",
      "Epoch 45/100\n",
      "256/256 [==============================] - 25s 96ms/step - loss: 0.0214 - acc: 0.9924\n",
      "Epoch 46/100\n",
      "256/256 [==============================] - 24s 95ms/step - loss: 0.0120 - acc: 0.9963\n",
      "Epoch 47/100\n",
      "256/256 [==============================] - 24s 95ms/step - loss: 0.0093 - acc: 0.9967\n",
      "Epoch 48/100\n",
      "256/256 [==============================] - 24s 95ms/step - loss: 0.0310 - acc: 0.9899\n",
      "Epoch 49/100\n",
      "256/256 [==============================] - 24s 95ms/step - loss: 0.0388 - acc: 0.9863\n",
      "Epoch 50/100\n",
      "256/256 [==============================] - 24s 95ms/step - loss: 0.0122 - acc: 0.9953\n",
      "Epoch 51/100\n",
      "256/256 [==============================] - 24s 95ms/step - loss: 0.0066 - acc: 0.9973\n",
      "Epoch 52/100\n",
      "256/256 [==============================] - 24s 94ms/step - loss: 0.0054 - acc: 0.9974\n",
      "Epoch 53/100\n",
      "256/256 [==============================] - 24s 94ms/step - loss: 0.0061 - acc: 0.9970\n",
      "Epoch 54/100\n",
      "256/256 [==============================] - 24s 94ms/step - loss: 0.0651 - acc: 0.9788\n",
      "Epoch 55/100\n",
      "256/256 [==============================] - 24s 95ms/step - loss: 0.0231 - acc: 0.9915\n",
      "Epoch 56/100\n",
      "256/256 [==============================] - 24s 95ms/step - loss: 0.0158 - acc: 0.9943\n",
      "Epoch 57/100\n",
      "256/256 [==============================] - 24s 94ms/step - loss: 0.0238 - acc: 0.9913\n",
      "Epoch 58/100\n",
      "256/256 [==============================] - 24s 94ms/step - loss: 0.0127 - acc: 0.9948\n",
      "Epoch 59/100\n",
      "256/256 [==============================] - 24s 94ms/step - loss: 0.0282 - acc: 0.9902\n",
      "Epoch 60/100\n",
      "256/256 [==============================] - 24s 95ms/step - loss: 0.0192 - acc: 0.9926\n",
      "Epoch 61/100\n",
      "256/256 [==============================] - 24s 94ms/step - loss: 0.0311 - acc: 0.9895\n",
      "Epoch 62/100\n",
      "256/256 [==============================] - 24s 94ms/step - loss: 0.0123 - acc: 0.9951\n",
      "Epoch 63/100\n",
      "256/256 [==============================] - 24s 94ms/step - loss: 0.0263 - acc: 0.9914\n",
      "Epoch 64/100\n",
      "256/256 [==============================] - 24s 93ms/step - loss: 0.0160 - acc: 0.9944\n",
      "Epoch 65/100\n",
      "256/256 [==============================] - 24s 93ms/step - loss: 0.0080 - acc: 0.9965\n",
      "Epoch 66/100\n",
      "256/256 [==============================] - 24s 94ms/step - loss: 0.0061 - acc: 0.9972\n",
      "Epoch 67/100\n",
      "256/256 [==============================] - 25s 97ms/step - loss: 0.0051 - acc: 0.9976\n",
      "Epoch 68/100\n",
      "256/256 [==============================] - 25s 96ms/step - loss: 0.0081 - acc: 0.9967\n",
      "Epoch 69/100\n",
      "256/256 [==============================] - 24s 95ms/step - loss: 0.0549 - acc: 0.9816\n",
      "Epoch 70/100\n",
      "256/256 [==============================] - 24s 95ms/step - loss: 0.0211 - acc: 0.9922\n",
      "Epoch 71/100\n",
      "256/256 [==============================] - 25s 96ms/step - loss: 0.0081 - acc: 0.9966\n",
      "Epoch 72/100\n",
      "256/256 [==============================] - 24s 95ms/step - loss: 0.0058 - acc: 0.9973\n",
      "Epoch 73/100\n",
      "256/256 [==============================] - 24s 95ms/step - loss: 0.0044 - acc: 0.9977\n",
      "Epoch 74/100\n",
      "256/256 [==============================] - 24s 95ms/step - loss: 0.0044 - acc: 0.9977\n",
      "Epoch 75/100\n",
      "256/256 [==============================] - 24s 95ms/step - loss: 0.0045 - acc: 0.9976\n",
      "Epoch 76/100\n",
      "256/256 [==============================] - 24s 95ms/step - loss: 0.0041 - acc: 0.9977\n",
      "Epoch 77/100\n",
      "256/256 [==============================] - 24s 95ms/step - loss: 0.0418 - acc: 0.9875\n",
      "Epoch 78/100\n",
      "256/256 [==============================] - 24s 95ms/step - loss: 0.0448 - acc: 0.9845\n",
      "Epoch 79/100\n",
      "256/256 [==============================] - 24s 95ms/step - loss: 0.0085 - acc: 0.9966\n",
      "Epoch 80/100\n",
      "256/256 [==============================] - 24s 95ms/step - loss: 0.0060 - acc: 0.9973\n",
      "Epoch 81/100\n",
      "256/256 [==============================] - 24s 95ms/step - loss: 0.0130 - acc: 0.9949\n",
      "Epoch 82/100\n",
      "256/256 [==============================] - 24s 95ms/step - loss: 0.0279 - acc: 0.9908\n",
      "Epoch 83/100\n",
      "256/256 [==============================] - 24s 95ms/step - loss: 0.0168 - acc: 0.9938\n",
      "Epoch 84/100\n",
      "256/256 [==============================] - 24s 95ms/step - loss: 0.0136 - acc: 0.9947\n",
      "Epoch 85/100\n",
      "256/256 [==============================] - 24s 95ms/step - loss: 0.0099 - acc: 0.9962\n",
      "Epoch 86/100\n",
      "256/256 [==============================] - 24s 95ms/step - loss: 0.0175 - acc: 0.9934\n",
      "Epoch 87/100\n",
      "256/256 [==============================] - 24s 94ms/step - loss: 0.0189 - acc: 0.9929\n",
      "Epoch 88/100\n",
      "256/256 [==============================] - 24s 95ms/step - loss: 0.0091 - acc: 0.9965\n",
      "Epoch 89/100\n",
      "256/256 [==============================] - 24s 95ms/step - loss: 0.0054 - acc: 0.9972\n",
      "Epoch 90/100\n",
      "256/256 [==============================] - 24s 95ms/step - loss: 0.0047 - acc: 0.9977\n",
      "Epoch 91/100\n",
      "256/256 [==============================] - 24s 95ms/step - loss: 0.0050 - acc: 0.9975\n",
      "Epoch 92/100\n",
      "256/256 [==============================] - 24s 95ms/step - loss: 0.0091 - acc: 0.9964\n",
      "Epoch 93/100\n",
      "256/256 [==============================] - 24s 95ms/step - loss: 0.0475 - acc: 0.9843\n",
      "Epoch 94/100\n",
      "256/256 [==============================] - 24s 95ms/step - loss: 0.0100 - acc: 0.9960\n",
      "Epoch 95/100\n",
      "256/256 [==============================] - 24s 94ms/step - loss: 0.0057 - acc: 0.9975\n",
      "Epoch 96/100\n",
      "256/256 [==============================] - 24s 96ms/step - loss: 0.0048 - acc: 0.9976\n",
      "Epoch 97/100\n",
      "256/256 [==============================] - 24s 95ms/step - loss: 0.0057 - acc: 0.9977\n",
      "Epoch 98/100\n",
      "256/256 [==============================] - 24s 95ms/step - loss: 0.0233 - acc: 0.9924\n",
      "Epoch 99/100\n",
      "256/256 [==============================] - 24s 95ms/step - loss: 0.0412 - acc: 0.9866\n",
      "Epoch 100/100\n",
      "256/256 [==============================] - 24s 95ms/step - loss: 0.0237 - acc: 0.9924\n"
     ]
    },
    {
     "data": {
      "text/plain": [
       "<keras.callbacks.History at 0x7fb887d976d8>"
      ]
     },
     "execution_count": 6,
     "metadata": {
      "tags": []
     },
     "output_type": "execute_result"
    }
   ],
   "source": [
    "#batch process, generating batches of tensor image data with real-time data augmentation\n",
    "gen = ImageDataGenerator()\n",
    "train_generator = gen.flow(x_train, y_train, batch_size=batch_size)\n",
    "\n",
    "model.compile(loss='categorical_crossentropy'\n",
    "    , optimizer=keras.optimizers.Adam()\n",
    "    , metrics=['accuracy']\n",
    ")\n",
    "model.fit_generator(train_generator, steps_per_epoch=batch_size, epochs=epochs) #train for randomly selected one"
   ]
  },
  {
   "cell_type": "markdown",
   "metadata": {},
   "source": [
    "* ImageDataGenerator generates the batches of tensor data with real-time augmentation which will help to increase the image quality and help to learn better."
   ]
  },
  {
   "cell_type": "code",
   "execution_count": 0,
   "metadata": {
    "colab": {
     "base_uri": "https://localhost:8080/",
     "height": 118
    },
    "colab_type": "code",
    "id": "I0P8L-WVgq_f",
    "outputId": "363b3533-7701-46e9-a577-24fb5ccad52b"
   },
   "outputs": [
    {
     "name": "stdout",
     "output_type": "stream",
     "text": [
      "28709/28709 [==============================] - 5s 190us/step\n",
      "Train loss: 0.006535296773748992\n",
      "Train accuracy: 99.74224110905988\n",
      "3589/3589 [==============================] - 1s 178us/step\n",
      "Test loss: 3.2422732942846366\n",
      "Test accuracy: 57.23042630591277\n"
     ]
    }
   ],
   "source": [
    "#overall evaluation\n",
    "score = model.evaluate(x_train, y_train)\n",
    "print('Train loss:', score[0])\n",
    "print('Train accuracy:', 100*score[1])\n",
    "\n",
    "score = model.evaluate(x_test, y_test)\n",
    "print('Test loss:', score[0])\n",
    "print('Test accuracy:', 100*score[1])"
   ]
  },
  {
   "cell_type": "markdown",
   "metadata": {},
   "source": [
    "* Evaluating the loss and accuracy for training and testing respectively"
   ]
  },
  {
   "cell_type": "code",
   "execution_count": 0,
   "metadata": {
    "colab": {},
    "colab_type": "code",
    "id": "9ndk4EIRQ7kt"
   },
   "outputs": [],
   "source": [
    "model.save('CNN_saved_final.h5')"
   ]
  },
  {
   "cell_type": "markdown",
   "metadata": {},
   "source": [
    "* Saving the trained model here "
   ]
  },
  {
   "cell_type": "code",
   "execution_count": 0,
   "metadata": {
    "colab": {},
    "colab_type": "code",
    "id": "pSQ34q0rTNka"
   },
   "outputs": [],
   "source": [
    "def detect_emotion(emotions):\n",
    "    \"\"\"\n",
    "    This function classifies the image by converting it NP into array and then predicting the results\n",
    "    \"\"\"\n",
    "    objects = ('angry', 'disgust', 'fear', 'happy', 'sad', 'surprise', 'neutral')\n",
    "    y_pos = np.arange(len(objects))\n",
    "    \n",
    "    plt.bar(y_pos, emotions, align='center', alpha=0.5)\n",
    "    plt.xticks(y_pos, objects)\n",
    "    plt.ylabel('percentage')\n",
    "    plt.title('emotion')\n",
    "    \n",
    "    plt.show()"
   ]
  },
  {
   "cell_type": "markdown",
   "metadata": {},
   "source": [
    "* The above function classifies the input image by converting it into array and then predicts the results.\n",
    "* The np.arange(len(objects)) here returns evenly spaced value of length of objects "
   ]
  },
  {
   "cell_type": "code",
   "execution_count": 0,
   "metadata": {
    "colab": {
     "base_uri": "https://localhost:8080/",
     "height": 586
    },
    "colab_type": "code",
    "id": "OA7yg8NlTNkc",
    "outputId": "cb9d0b22-e25b-4ec0-ac29-0bc0c653b699"
   },
   "outputs": [
    {
     "name": "stderr",
     "output_type": "stream",
     "text": [
      "/usr/local/lib/python3.6/dist-packages/keras_preprocessing/image/utils.py:98: UserWarning: grayscale is deprecated. Please use color_mode = \"grayscale\"\n",
      "  warnings.warn('grayscale is deprecated. Please use '\n"
     ]
    },
    {
     "data": {
      "image/png": "[encoded data removed]",
      "text/plain": [
       "<Figure size 432x288 with 1 Axes>"
      ]
     },
     "metadata": {
      "tags": []
     },
     "output_type": "display_data"
    },
    {
     "data": {
      "image/png": "[encoded data removed]",
      "text/plain": [
       "<Figure size 432x288 with 1 Axes>"
      ]
     },
     "metadata": {
      "tags": []
     },
     "output_type": "display_data"
    }
   ],
   "source": [
    "img = image.load_img(\"../motu.jpg\", grayscale=True, target_size=(48, 48))\n",
    "\n",
    "x = image.img_to_array(img) #Converting image to array\n",
    "x = np.expand_dims(x, axis = 0) #This will expand the shape of an array as we already converted the input image to 48x48\n",
    "\n",
    "x /= 255\n",
    "\n",
    "emotion_prediction = model.predict(x)\n",
    "detect_emotion(emotion_prediction[0])\n",
    "\n",
    "x = np.array(x, 'float32')\n",
    "x = x.reshape([48, 48]);\n",
    "\n",
    "plt.gray()\n",
    "plt.imshow(x)\n",
    "plt.show()"
   ]
  },
  {
   "cell_type": "markdown",
   "metadata": {},
   "source": [
    "* img_to_array() - Converts the image to array\n",
    "* np.expand_dims() - Expands the shape of an array. Insert a new axis that will appear at the axis = 0 position in the expanded array shape."
   ]
  },
  {
   "cell_type": "markdown",
   "metadata": {},
   "source": [
    "### OpenCV:\n",
    "\n",
    "OpenCV (Open Source Computer Vision) is a library of programming functions mainly aimed at real-time computer vision. The C++ API provides a class ‘videocapture’ for capturing video from cameras or for reading video files and image sequences. It is basically used to access the Webcam of our computer to capture real-time videos"
   ]
  },
  {
   "cell_type": "code",
   "execution_count": 0,
   "metadata": {
    "colab": {},
    "colab_type": "code",
    "id": "FjYhbZkZYZvz"
   },
   "outputs": [],
   "source": [
    "#Detecing expessions by feeding a video or webcam\n",
    "import cv2\n",
    "from collections import deque\n",
    "import operator\n",
    "emotion_queue = deque(maxlen=10)"
   ]
  },
  {
   "cell_type": "code",
   "execution_count": 0,
   "metadata": {
    "colab": {},
    "colab_type": "code",
    "id": "s2gBUFBLYb2K"
   },
   "outputs": [],
   "source": [
    "def smooth_emotions(prediction):\n",
    "    \"\"\"\n",
    "    As the model will provide the mixture of results this function will give average of the emotions to 1 emotion\n",
    "    \n",
    "    \"\"\"\n",
    "    emotions = [\"Angry\", \"Disgust\", \"Fear\", \"Happy\", \"Sad\", \"Surprise\", \"Neutral\"]\n",
    "    emotion_values = {'Angry': 0.0, 'Disgust': 0.0, 'Fear': 0.0, 'Happy': 0.0, 'Sad': 0.0, 'Surprise': 0.0, 'Neutral': 0.0}\n",
    "\n",
    "    emotion_probability, emotion_index = max((val, idx) for (idx, val) in enumerate(prediction[0]))\n",
    "    emotion = emotions[emotion_index]\n",
    "\n",
    "    # Append the new emotion and if the max length is reached pop the oldest value out\n",
    "    emotion_queue.appendleft((emotion_probability, emotion))\n",
    "\n",
    "    # Iterate through each emotion in the queue and create an average of the emotions\n",
    "    for pair in emotion_queue:\n",
    "        emotion_values[pair[1]] += pair[0]\n",
    "\n",
    "    # Select the current emotion based on the one that has the highest value\n",
    "    average_emotion = max(emotion_values.items(), key=operator.itemgetter(1))[0]\n",
    "    return average_emotion"
   ]
  },
  {
   "cell_type": "markdown",
   "metadata": {},
   "source": [
    "* The above function takes processed image as input and provides the average of the emotions to 1 emotion from the mixture of results provided by the model"
   ]
  },
  {
   "cell_type": "code",
   "execution_count": 0,
   "metadata": {
    "colab": {},
    "colab_type": "code",
    "id": "C8afZjQHYc3K"
   },
   "outputs": [],
   "source": [
    "# preprocessing the input image\n",
    "def process_image(roi_gray, img):\n",
    "        image_scaled = np.array(cv2.resize(roi_gray, (48, 48)), dtype=float)\n",
    "        image_processed = image_scaled.flatten()\n",
    "        image_processed = image_processed.reshape([-1, 48, 48, 1])\n",
    "\n",
    "        prediction = model.predict(image_processed)\n",
    "        emotion = smooth_emotions(prediction)\n",
    "\n",
    "        font = cv2.FONT_HERSHEY_SIMPLEX\n",
    "        cv2.putText(img, \"Emotion: \" + emotion, (50, 450), font, 1, (0, 255, 255), 2)\n",
    "        cv2.imshow('img', img)"
   ]
  },
  {
   "cell_type": "markdown",
   "metadata": {},
   "source": [
    "* The above function performs a series of preprocessing steps on input image by reshaping and flattening. Then it feeds the processed image to the model for it to predict"
   ]
  },
  {
   "cell_type": "markdown",
   "metadata": {},
   "source": [
    "### Detecting objects through webcam\n",
    "\n",
    "The below code is used to detect objects through webcam. To capture a video, we need to create a VideoCapture object. Its argument can be either the device index or the name of a video file. Device index is just the number to specify which camera. Normally one camera will be connected (as in my case). So I simply pass 0 (or -1). You can select the second camera by passing 1 and so on. After that, you can capture frame-by-frame."
   ]
  },
  {
   "cell_type": "code",
   "execution_count": 0,
   "metadata": {
    "colab": {},
    "colab_type": "code",
    "id": "ykq-UDVNYewk"
   },
   "outputs": [],
   "source": [
    "# detecting human faces using HAAR cascade\n",
    "face_cascade = cv2.CascadeClassifier('haarcascade_frontalface_default.xml')\n",
    "#cap = cv2.VideoCapture(0) # 0 for webcam\n",
    "cap = cv2.VideoCapture(\"../face_detection.mp4\") # input the name of your video file here\n",
    "\n",
    "while True:\n",
    "    ret, img = cap.read()\n",
    "    gray = cv2.cvtColor(img, cv2.COLOR_BGR2GRAY)\n",
    "    faces = face_cascade.detectMultiScale(gray, 1.3, 5)\n",
    "    for (x, y, w, h) in faces:\n",
    "        cv2.rectangle(img, (x, y), (x + w, y + h), (255, 0, 0), 2)\n",
    "        roi_gray = gray[y:y + h, x:x + w]\n",
    "        roi_color = img[y:y + h, x:x + w]\n",
    "        process_image(roi_gray, img)\n",
    "    if cv2.waitKey(1) & 0xFF == ord('q'):\n",
    "        break\n",
    "cap.release()\n",
    "cv2.destroyAllWindows()"
   ]
  },
  {
   "cell_type": "markdown",
   "metadata": {
    "colab_type": "text",
    "id": "e69CT-V-Ynbs"
   },
   "source": [
    "## Conclusion\n",
    "\n",
    "* After training this model for upto 200 epochs, we only got 85% training accuracy while the testing accuracy was around 50’s.\n",
    "\n",
    "* After looking at the predictions we came to conclusion that the model is overfitting the data. To improve the accuracy, we started tweaking the hyperparameters like Activation function, Cost functions, epochs, optimizers and every other parameter but accuracy was not affected much.\n",
    "\n",
    "* Initially, we trained this model for 200 epochs, but we found that the network reached plateau after almost 100 epochs. Since we did not want to overfit our model we trained it for 100 epochs.\n",
    "\n",
    "* Below table summarizes the values and the score that we could produce using the respective combination.\n",
    " \n",
    "\n",
    "\n",
    "Model No. | training accuracy | testing accuracy\n",
    "-----------------|----------------|----------------------\n",
    "CNN Sequential  | 99.7 %          | 57.2%       \n"
   ]
  },
  {
   "cell_type": "markdown",
   "metadata": {
    "colab_type": "text",
    "id": "nh78jObzYr0j"
   },
   "source": [
    "## Contribution\n",
    "\n",
    "In the above analysis:\n",
    "\n",
    "- 60% of the work is done by us which includes\n",
    "  * CNN implementation and accuracy improvement\n",
    "  * Live webcam code optimization\n",
    "\n",
    "- 40% of the work is taken from web, the links for which are cited below"
   ]
  },
  {
   "cell_type": "markdown",
   "metadata": {
    "colab_type": "text",
    "id": "w9IZMSi6Yv1k"
   },
   "source": [
    "## Citations\n",
    "\n",
    "* For face detection - https://www.youtube.com/watch?v=PmZ29Vta7Vc\n",
    "\n",
    "* For VGG19 and ResNet - https://github.com/tflearn/tflearn/tree/master/examples/images\n",
    "\n",
    "* For tflearn - http://tflearn.org/tutorials/\n",
    "\n",
    "* Article on Facial Emotion Recognition using CNN - http://sefiks.com/2018/01/01/facial-expression-recognition-with-keras/\n",
    "\n",
    "* VGG19 CNN - https://www.mathworks.com/help/deeplearning/ref/vgg19.html;jsessionid=ccf9599bd865b423281a56299a68"
   ]
  },
  {
   "cell_type": "markdown",
   "metadata": {
    "colab_type": "text",
    "id": "UwZK78SXY0X7"
   },
   "source": [
    "## License\n",
    "\n",
    "<font size=\"4\">MIT License</font>\n",
    "    \n",
    "<b>Copyright (c) 2019 RUPESH ACHARYA, PREETAM JAIN</b>\n",
    "\n",
    "Permission is hereby granted, free of charge, to any person obtaining a copy\n",
    "of this software and associated documentation files (the \"Software\"), to deal\n",
    "in the Software without restriction, including without limitation the rights\n",
    "to use, copy, modify, merge, publish, distribute, sublicense, and/or sell\n",
    "copies of the Software, and to permit persons to whom the Software is\n",
    "furnished to do so, subject to the following conditions:\n",
    "\n",
    "The above copyright notice and this permission notice shall be included in all\n",
    "copies or substantial portions of the Software.\n",
    "\n",
    "THE SOFTWARE IS PROVIDED \"AS IS\", WITHOUT WARRANTY OF ANY KIND, EXPRESS OR\n",
    "IMPLIED, INCLUDING BUT NOT LIMITED TO THE WARRANTIES OF MERCHANTABILITY,\n",
    "FITNESS FOR A PARTICULAR PURPOSE AND NONINFRINGEMENT. IN NO EVENT SHALL THE\n",
    "AUTHORS OR COPYRIGHT HOLDERS BE LIABLE FOR ANY CLAIM, DAMAGES OR OTHER\n",
    "LIABILITY, WHETHER IN AN ACTION OF CONTRACT, TORT OR OTHERWISE, ARISING FROM,\n",
    "OUT OF OR IN CONNECTION WITH THE SOFTWARE OR THE USE OR OTHER DEALINGS IN THE\n",
    "SOFTWARE."
   ]
  }
 ],
 "metadata": {
  "accelerator": "GPU",
  "colab": {
   "collapsed_sections": [],
   "name": "CNN.ipynb",
   "provenance": [],
   "version": "0.3.2"
  },
  "kernelspec": {
   "display_name": "Python 3",
   "language": "python",
   "name": "python3"
  },
  "language_info": {
   "codemirror_mode": {
    "name": "ipython",
    "version": 3
   },
   "file_extension": ".py",
   "mimetype": "text/x-python",
   "name": "python",
   "nbconvert_exporter": "python",
   "pygments_lexer": "ipython3",
   "version": "3.6.2"
  }
 },
 "nbformat": 4,
 "nbformat_minor": 1
}
