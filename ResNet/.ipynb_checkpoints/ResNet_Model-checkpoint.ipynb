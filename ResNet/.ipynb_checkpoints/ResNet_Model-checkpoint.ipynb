{
 "cells": [
  {
   "cell_type": "markdown",
   "metadata": {
    "colab_type": "text",
    "id": "Dw1aqRLMG1OA"
   },
   "source": [
    "# Facial Expression Recognition using ResNet - Part  3/3 "
   ]
  },
  {
   "cell_type": "markdown",
   "metadata": {
    "colab_type": "text",
    "id": "zeYjEoCtG8hZ"
   },
   "source": [
    "## Abstract\n",
    "\n",
    "* In this part, we have implemented Residual Networks:\n",
    "    * Computer animated agents and robots bring new dimension in human computer interaction which makes it vital as how computers can affect our social life in day-to-day activities. Face to face communication is a real-time process operating at a time scale in the order of milliseconds. The level of uncertainty at this time scale is considerable, making it necessary for humans and machines to rely on sensory rich perceptual primitives rather than slow symbolic inference processes. In this project we are presenting the real time facial expression recognition of seven most basic human expressions: ANGER, DISGUST, FEAR, HAPPY, NEUTRAL, SAD, SURPRISE.\n",
    "\n",
    "\n",
    "### Dataset Introduction\n",
    "\n",
    "* The dataset we have chosen is Facial Expression Recognition fer2013.\n",
    "* The training set consists of 28,709 examples. The public test set consists of 3,589 examples. The final test set, consists of another 3,589 examples.\n",
    "* The data consists of 48x48 pixel grayscale images of faces. \n",
    "* The faces have been automatically registered so that the face is more or less centered and occupies about the same amount of space in each image. \n",
    "* The task is to categorize each face based on the emotion shown in the facial expression in to one of seven categories (0=Angry, 1=Disgust, 2=Fear, 3=Happy, 4=Sad, 5=Surprise, 6=Neutral).\n",
    "* The \"emotion\" column contains a numeric code ranging from 0 to 6, inclusive, for the emotion that is present in the image. The \"pixels\" column contains a string surrounded in quotes for each image. The contents of this string a space-separated pixel values in row major order. Our task is to predict the \"emotion\" column.\n",
    "* This dataset was prepared by Pierre-Luc Carrier and Aaron Courville, as part of an ongoing research project. They have graciously provided the workshop organizers with a preliminary version of their dataset to use for this contest.\n",
    "* Link to the dataset - https://www.kaggle.com/c/challenges-in-representation-learning-facial-expression-recognition-challenge/data\n",
    "\n",
    "`Conclusion` - We train Residual Networks on certain parameters, resulting in the accuracy of `62.0%`."
   ]
  },
  {
   "cell_type": "markdown",
   "metadata": {},
   "source": [
    "## Project Implementation"
   ]
  },
  {
   "cell_type": "markdown",
   "metadata": {
    "colab_type": "text",
    "id": "alz-lmJlHBxH"
   },
   "source": [
    "### Part 3 - ResNet\n",
    "\n",
    "The core idea of ResNet is introducing a so-called “identity shortcut connection” that skips one or more layers. The authors argue that stacking layers shouldn’t degrade the network performance, because we could simply stack identity mappings (layer that doesn’t do anything) upon the current network, and the resulting architecture would perform the same. This indicates that the deeper model should not produce a training error higher than its shallower counterparts. They hypothesize that letting the stacked layers fit a residual mapping is easier than letting them directly fit the desired underlaying mapping. And the residual block above explicitly allows it to do precisely that.\n",
    "\n",
    "As a matter of fact, ResNet was not the first to make use of shortcut connections, Highway Network introduced gated shortcut connections. These parameterized gates control how much information is allowed to flow across the shortcut. Similar idea can be found in the Long Term Short Memory (LSTM) cell, in which there is a parameterized forget gate that controls how much information will flow to the next time step. Therefore, ResNet can be thought of as a special case of Highway Network."
   ]
  },
  {
   "cell_type": "markdown",
   "metadata": {},
   "source": [
    "#### TensorFlow:\n",
    "\n",
    "TensorFlow is an open source software library for high performance numerical computation. Its flexible architecture allows easy deployment of computation across a variety of platforms (CPUs, GPUs, TPUs), and from desktops to clusters of servers to mobile and edge devices"
   ]
  },
  {
   "cell_type": "code",
   "execution_count": 22,
   "metadata": {
    "colab": {
     "base_uri": "https://localhost:8080/",
     "height": 34
    },
    "colab_type": "code",
    "id": "67J4SMCQFBrW",
    "outputId": "6ffd9414-fce9-43d8-bf16-6dfd5d60d151"
   },
   "outputs": [],
   "source": [
    "#Importing required libraries\n",
    "\n",
    "import tensorflow as tf\n",
    "\n",
    "import keras\n",
    "from keras.models import Sequential\n",
    "from keras.layers import Conv2D, MaxPooling2D, AveragePooling2D\n",
    "from keras.layers import Dense, Activation, Dropout, Flatten\n",
    "\n",
    "from keras.preprocessing import image\n",
    "from keras.preprocessing.image import ImageDataGenerator\n",
    "\n",
    "import numpy as np\n",
    "import matplotlib.pyplot as plt\n",
    "tf.reset_default_graph() #This will reset the current loaded graph to avoid issues\n",
    "config = tf.ConfigProto( device_count = {'GPU': 1 , 'CPU': 56} ) #Providing GPU\n",
    "sess = tf.Session(config=config) \n",
    "keras.backend.set_session(sess)"
   ]
  },
  {
   "cell_type": "markdown",
   "metadata": {},
   "source": [
    "* On a typical system, there are multiple computing devices. In TensorFlow, the supported device types are CPU and GPU. They are represented as strings. For example:\n",
    "\n",
    "    * \"/cpu:0\": The CPU of your machine.\n",
    "    * \"/device:GPU:0\": The GPU of your machine, if you have one.\n",
    "    * \"/device:GPU:1\": The second GPU of your machine, etc.\n",
    "If a TensorFlow operation has both CPU and GPU implementations, the GPU devices will be given priority when the operation is assigned to a device."
   ]
  },
  {
   "cell_type": "code",
   "execution_count": 2,
   "metadata": {
    "colab": {},
    "colab_type": "code",
    "id": "hW5XW2TdFBra"
   },
   "outputs": [],
   "source": [
    "#read the dataset\n",
    "with open(\"../fer2013.csv\") as f:\n",
    "    content = f.readlines()\n",
    "#Converting lines to array as the lines represent the pixels\n",
    "lines = np.array(content)\n",
    "\n",
    "num_of_instances = lines.size"
   ]
  },
  {
   "cell_type": "markdown",
   "metadata": {},
   "source": [
    "* The method readlines() reads until EOF using readline() and returns a list containing the lines.\n",
    "* Then np.array() creates an array of the list containing the lines from above."
   ]
  },
  {
   "cell_type": "code",
   "execution_count": 3,
   "metadata": {
    "colab": {},
    "colab_type": "code",
    "id": "6QpJdstCFBrd"
   },
   "outputs": [],
   "source": [
    "x_train, y_train, x_test, y_test = [], [], [], []\n",
    "\n",
    "#creating training and testing data [4]\n",
    "for i in range(1,num_of_instances):\n",
    "    emotion, img, usage = lines[i].split(\",\")\n",
    "    val = img.split(\" \")\n",
    "            \n",
    "    pixels = np.array(val, 'float32')\n",
    "        \n",
    "    emotion = keras.utils.to_categorical(emotion, 7)\n",
    "    #Creating training and testing set\n",
    "    if 'Training' in usage:\n",
    "        y_train.append(emotion)\n",
    "        x_train.append(pixels)\n",
    "    elif 'PublicTest' in usage:\n",
    "        y_test.append(emotion)\n",
    "        x_test.append(pixels)"
   ]
  },
  {
   "cell_type": "markdown",
   "metadata": {},
   "source": [
    "* The split() method splits a string into a list by the given separator.\n",
    "* keras.utils.to_categorical() - Converts a class vector (integers) to binary class matrix."
   ]
  },
  {
   "cell_type": "code",
   "execution_count": 4,
   "metadata": {
    "colab": {},
    "colab_type": "code",
    "id": "_903oL0DFBrf"
   },
   "outputs": [],
   "source": [
    "#Converting our training variables to NP array\n",
    "x_train = np.asarray(x_train, 'float32')\n",
    "y_train = np.asarray(y_train, 'float32')\n",
    "x_test = np.asarray(x_test, 'float32')\n",
    "y_test = np.asarray(y_test, 'float32')\n",
    "\n",
    "#Since the images are 48x48, reshaping the array to 48x48. And 1 is for grayscale and -1 will automatically detect the number of images.\n",
    "x_train = x_train.reshape([-1, 48, 48, 1])\n",
    "x_test = x_test.reshape([-1, 48, 48, 1])"
   ]
  },
  {
   "cell_type": "markdown",
   "metadata": {},
   "source": [
    "* The np.asarray() method converts the given input to an array.\n",
    "* .reshape() - Reshapes the images in the array object to 48x48 without changing its data."
   ]
  },
  {
   "cell_type": "code",
   "execution_count": 5,
   "metadata": {
    "colab": {
     "base_uri": "https://localhost:8080/",
     "height": 88
    },
    "colab_type": "code",
    "id": "0Izd-uLGFBrg",
    "outputId": "93534ef1-fdb2-4bc7-8161-103e6484dcc5"
   },
   "outputs": [
    {
     "name": "stdout",
     "output_type": "stream",
     "text": [
      "curses is not supported on this machine (please install/reinstall curses for an optimal experience)\n"
     ]
    }
   ],
   "source": [
    "import tflearn\n",
    "import numpy as np\n",
    "from numpy import genfromtxt\n",
    "from tflearn.data_preprocessing import ImagePreprocessing\n",
    "import keras"
   ]
  },
  {
   "cell_type": "code",
   "execution_count": 6,
   "metadata": {
    "colab": {},
    "colab_type": "code",
    "id": "Grx56pv2FBri"
   },
   "outputs": [],
   "source": [
    "#RealTime image preprocessing\n",
    "img_prep = ImagePreprocessing()\n",
    "\n",
    "# Zero Center (With mean computed over the whole dataset)\n",
    "img_prep.add_featurewise_zero_center()\n",
    "\n",
    "# STD Normalization (With standard deviation computed over the whole dataset)\n",
    "img_prep.add_featurewise_stdnorm()"
   ]
  },
  {
   "cell_type": "markdown",
   "metadata": {},
   "source": [
    "* The model will preprocess the image using ImageDataPreocessing() library where the images are processed in real time."
   ]
  },
  {
   "cell_type": "code",
   "execution_count": 7,
   "metadata": {
    "colab": {},
    "colab_type": "code",
    "id": "3DKLOEGlFBrk"
   },
   "outputs": [],
   "source": [
    "#This will augment the given image\n",
    "img_aug = tflearn.ImageAugmentation()\n",
    "#This will randomly flip the image for better training\n",
    "img_aug.add_random_flip_leftright()"
   ]
  },
  {
   "cell_type": "markdown",
   "metadata": {},
   "source": [
    "* The images will be augmented using ImageAugmentation() for better performance.\n",
    "* Then, the images will be flipped randomly to train it better and give better results."
   ]
  },
  {
   "cell_type": "code",
   "execution_count": 8,
   "metadata": {
    "colab": {
     "base_uri": "https://localhost:8080/",
     "height": 139
    },
    "colab_type": "code",
    "id": "h1wKVAtdFBrm",
    "outputId": "e9c9955e-21ba-4996-8bd1-7124221c7b30"
   },
   "outputs": [
    {
     "name": "stdout",
     "output_type": "stream",
     "text": [
      "WARNING:tensorflow:From C:\\Users\\achar\\Anaconda3\\lib\\site-packages\\tflearn\\initializations.py:119: UniformUnitScaling.__init__ (from tensorflow.python.ops.init_ops) is deprecated and will be removed in a future version.\n",
      "Instructions for updating:\n",
      "Use tf.initializers.variance_scaling instead with distribution=uniform to get equivalent behavior.\n",
      "WARNING:tensorflow:From C:\\Users\\achar\\Anaconda3\\lib\\site-packages\\tflearn\\objectives.py:66: calling reduce_sum (from tensorflow.python.ops.math_ops) with keep_dims is deprecated and will be removed in a future version.\n",
      "Instructions for updating:\n",
      "keep_dims is deprecated, use keepdims instead\n"
     ]
    }
   ],
   "source": [
    "#Creating residual architecture\n",
    "n = 5  #[3]\n",
    "net = tflearn.input_data(shape=[None, 48, 48, 1], data_preprocessing=img_prep, data_augmentation=img_aug)\n",
    "net = tflearn.conv_2d(net, nb_filter=16, filter_size=3, regularizer='L2', weight_decay=0.0001)\n",
    "net = tflearn.residual_block(net, n, 16)\n",
    "net = tflearn.residual_block(net, 1, 32, downsample=True)\n",
    "net = tflearn.residual_block(net, n-1, 32)\n",
    "net = tflearn.residual_block(net, 1, 64, downsample=True)\n",
    "net = tflearn.residual_block(net, n-1, 64)\n",
    "# Normalizing the previous batches by converting activation function close to 0 and loss function close to 1\n",
    "net = tflearn.batch_normalization(net)\n",
    "net = tflearn.activation(net, 'relu')\n",
    "net = tflearn.global_avg_pool(net)\n",
    "    \n",
    "# Creating final layer\n",
    "net = tflearn.fully_connected(net, 7, activation='softmax')\n",
    "mom = tflearn.Momentum(learning_rate=0.1, lr_decay=0.0001, decay_step=32000, staircase=True, momentum=0.9)\n",
    "net = tflearn.regression(net, optimizer=mom,\n",
    "                         loss='categorical_crossentropy')"
   ]
  },
  {
   "cell_type": "code",
   "execution_count": 9,
   "metadata": {
    "colab": {
     "base_uri": "https://localhost:8080/",
     "height": 88
    },
    "colab_type": "code",
    "id": "VVil5CZ8FBrp",
    "outputId": "bec9186c-d7fe-4a5a-ab11-5874a0b36355"
   },
   "outputs": [],
   "source": [
    "model = tflearn.DNN(net, checkpoint_path='models/emotion_classification',\n",
    "                    max_checkpoints=20, tensorboard_verbose=0,\n",
    "                    clip_gradients=0.)"
   ]
  },
  {
   "cell_type": "code",
   "execution_count": 10,
   "metadata": {
    "colab": {
     "base_uri": "https://localhost:8080/",
     "height": 105
    },
    "colab_type": "code",
    "id": "dWWKD8eJFBrr",
    "outputId": "b07c9af2-e4f0-4fd9-b7c2-0dd0347d9832"
   },
   "outputs": [
    {
     "name": "stdout",
     "output_type": "stream",
     "text": [
      "INFO:tensorflow:Restoring parameters from D:\\BDIA\\FinalProject_Team25\\ResNet\\resnet_emotion_1.tfl\n"
     ]
    }
   ],
   "source": [
    "#loading the previously trained model to retrain it\n",
    "model.load('resnet_emotion_1.tfl')"
   ]
  },
  {
   "cell_type": "code",
   "execution_count": 0,
   "metadata": {
    "colab": {
     "base_uri": "https://localhost:8080/",
     "height": 102
    },
    "colab_type": "code",
    "id": "5n_b6UDnjwTF",
    "outputId": "d7e0de1f-a726-447e-dd34-8da10c2bf1b1"
   },
   "outputs": [
    {
     "name": "stdout",
     "output_type": "stream",
     "text": [
      "Training Step: 101249  | total loss: \u001b[1m\u001b[32m0.08673\u001b[0m\u001b[0m | time: 39.362s\n",
      "| Momentum | epoch: 100 | loss: 0.08673 - acc: 0.9746 -- iter: 28672/28709\n",
      "Training Step: 101250  | total loss: \u001b[1m\u001b[32m0.08696\u001b[0m\u001b[0m | time: 39.539s\n",
      "| Momentum | epoch: 100 | loss: 0.08696 - acc: 0.9748 -- iter: 28709/28709\n",
      "--\n"
     ]
    }
   ],
   "source": [
    "#training the model\n",
    "model.fit(x_train,y_train, n_epoch = 200, snapshot_epoch = True, snapshot_step = 500,\n",
    "         show_metric=True, batch_size = 128, shuffle=True, run_id = \"200_emotion\")"
   ]
  },
  {
   "cell_type": "markdown",
   "metadata": {},
   "source": [
    "* Re-training the previously saved model by loading using model.load('resnet_emotion_1.tfl')"
   ]
  },
  {
   "cell_type": "code",
   "execution_count": 0,
   "metadata": {
    "colab": {},
    "colab_type": "code",
    "id": "5h1uCkX6B7RK"
   },
   "outputs": [],
   "source": [
    "#saving trained model\n",
    "model.save('resnet_emotion_1.tfl')"
   ]
  },
  {
   "cell_type": "code",
   "execution_count": 11,
   "metadata": {
    "colab": {},
    "colab_type": "code",
    "id": "kZRbjljCFBru"
   },
   "outputs": [],
   "source": [
    "#evaluating the test score\n",
    "score = model.evaluate(x_test, y_test)"
   ]
  },
  {
   "cell_type": "code",
   "execution_count": 12,
   "metadata": {
    "colab": {
     "base_uri": "https://localhost:8080/",
     "height": 34
    },
    "colab_type": "code",
    "id": "iGglhGX8H5R2",
    "outputId": "a9090298-a57f-4c11-b805-d7d444f255a6"
   },
   "outputs": [
    {
     "data": {
      "text/plain": [
       "[0.6202284759068828]"
      ]
     },
     "execution_count": 12,
     "metadata": {},
     "output_type": "execute_result"
    }
   ],
   "source": [
    "score"
   ]
  },
  {
   "cell_type": "markdown",
   "metadata": {},
   "source": [
    "* The test score after evaluation comes out to 62.0%"
   ]
  },
  {
   "cell_type": "code",
   "execution_count": 13,
   "metadata": {
    "colab": {},
    "colab_type": "code",
    "id": "eIOx4GkxIBtm"
   },
   "outputs": [],
   "source": [
    "def detect_emotion(emotions):\n",
    "    \"\"\"\n",
    "    This function classifies the image by converting it NP into array and then predicting the results\n",
    "    \"\"\"\n",
    "    objects = ('angry', 'disgust', 'fear', 'happy', 'sad', 'surprise', 'neutral')\n",
    "    y_pos = np.arange(len(objects))\n",
    "    \n",
    "    plt.bar(y_pos, emotions, align='center', alpha=0.5)\n",
    "    plt.xticks(y_pos, objects)\n",
    "    plt.ylabel('percentage')\n",
    "    plt.title('emotion')\n",
    "    \n",
    "    plt.show()"
   ]
  },
  {
   "cell_type": "markdown",
   "metadata": {},
   "source": [
    "* The above function classifies the input image by converting it into array and then predicts the results.\n",
    "* The np.arange(len(objects)) here returns evenly spaced value of length of objects "
   ]
  },
  {
   "cell_type": "code",
   "execution_count": 17,
   "metadata": {
    "colab": {
     "base_uri": "https://localhost:8080/",
     "height": 567
    },
    "colab_type": "code",
    "id": "icmm9B1nIvKq",
    "outputId": "2aa483fa-070e-47e9-fe7b-1cee5d77dc81"
   },
   "outputs": [
    {
     "name": "stderr",
     "output_type": "stream",
     "text": [
      "C:\\Users\\achar\\Anaconda3\\lib\\site-packages\\keras_preprocessing\\image\\utils.py:98: UserWarning: grayscale is deprecated. Please use color_mode = \"grayscale\"\n",
      "  warnings.warn('grayscale is deprecated. Please use '\n"
     ]
    },
    {
     "data": {
      "image/png": "[encoded data removed]",
      "text/plain": [
       "<Figure size 432x288 with 1 Axes>"
      ]
     },
     "metadata": {},
     "output_type": "display_data"
    },
    {
     "data": {
      "image/png": "[encoded data removed]",
      "text/plain": [
       "<Figure size 432x288 with 1 Axes>"
      ]
     },
     "metadata": {},
     "output_type": "display_data"
    }
   ],
   "source": [
    "img = image.load_img(\"../d.jpg\", grayscale=True, target_size=(48, 48))\n",
    "\n",
    "x = image.img_to_array(img) #Converting image to array\n",
    "x = np.expand_dims(x, axis = 0) #This will expand the shape of an array as we already converted the input image to 48x48\n",
    "\n",
    "emotion_prediction = model.predict(x)\n",
    "detect_emotion(emotion_prediction[0])\n",
    "\n",
    "x = np.array(x, 'float32')\n",
    "x = x.reshape([48, 48]);\n",
    "\n",
    "plt.gray()\n",
    "plt.imshow(x)\n",
    "plt.show()"
   ]
  },
  {
   "cell_type": "markdown",
   "metadata": {},
   "source": [
    "* img_to_array() - Converts the image to array\n",
    "* np.expand_dims() - Expands the shape of an array. Insert a new axis that will appear at the axis = 0 position in the expanded array shape."
   ]
  },
  {
   "cell_type": "markdown",
   "metadata": {},
   "source": [
    "### OpenCV:\n",
    "\n",
    "OpenCV (Open Source Computer Vision) is a library of programming functions mainly aimed at real-time computer vision. The C++ API provides a class ‘videocapture’ for capturing video from cameras or for reading video files and image sequences. It is basically used to access the Webcam of our computer to capture real-time videos"
   ]
  },
  {
   "cell_type": "code",
   "execution_count": 18,
   "metadata": {
    "colab": {},
    "colab_type": "code",
    "id": "7YKjdnpbREMn"
   },
   "outputs": [],
   "source": [
    "#Detecing expessions by feeding a video or webcam\n",
    "import cv2\n",
    "from collections import deque\n",
    "import operator\n",
    "emotion_queue = deque(maxlen=10)"
   ]
  },
  {
   "cell_type": "code",
   "execution_count": 19,
   "metadata": {
    "colab": {},
    "colab_type": "code",
    "id": "jGO55jV_RULg"
   },
   "outputs": [],
   "source": [
    "def smooth_emotions(prediction):\n",
    "    \"\"\"\n",
    "    As the model will provide the mixture of results this function will give average of the emotions to 1 emotion\n",
    "    \n",
    "    \"\"\"\n",
    "    emotions = [\"Angry\", \"Disgust\", \"Fear\", \"Happy\", \"Sad\", \"Surprise\", \"Neutral\"]\n",
    "    emotion_values = {'Angry': 0.0, 'Disgust': 0.0, 'Fear': 0.0, 'Happy': 0.0, 'Sad': 0.0, 'Surprise': 0.0, 'Neutral': 0.0}\n",
    "\n",
    "    emotion_probability, emotion_index = max((val, idx) for (idx, val) in enumerate(prediction[0]))\n",
    "    emotion = emotions[emotion_index]\n",
    "\n",
    "    # Append the new emotion and if the max length is reached pop the oldest value out\n",
    "    emotion_queue.appendleft((emotion_probability, emotion))\n",
    "\n",
    "    # Iterate through each emotion in the queue and create an average of the emotions\n",
    "    for pair in emotion_queue:\n",
    "        emotion_values[pair[1]] += pair[0]\n",
    "\n",
    "    # Select the current emotion based on the one that has the highest value\n",
    "    average_emotion = max(emotion_values.items(), key=operator.itemgetter(1))[0]\n",
    "    return average_emotion"
   ]
  },
  {
   "cell_type": "markdown",
   "metadata": {},
   "source": [
    "* The above function takes processed image as input and provides the average of the emotions to 1 emotion from the mixture of results provided by the model"
   ]
  },
  {
   "cell_type": "code",
   "execution_count": 20,
   "metadata": {
    "colab": {},
    "colab_type": "code",
    "id": "d3Yig5sxRXBg"
   },
   "outputs": [],
   "source": [
    "# preprocessing the input image\n",
    "def process_image(roi_gray, img):\n",
    "        image_scaled = np.array(cv2.resize(roi_gray, (48, 48)), dtype=float)\n",
    "        image_processed = image_scaled.flatten()\n",
    "        image_processed = image_processed.reshape([-1, 48, 48, 1])\n",
    "\n",
    "        prediction = model.predict(image_processed)\n",
    "        emotion = smooth_emotions(prediction)\n",
    "\n",
    "        font = cv2.FONT_HERSHEY_SIMPLEX\n",
    "        cv2.putText(img, \"Emotion: \" + emotion, (50, 450), font, 1, (0, 255, 255), 2)\n",
    "        cv2.imshow('img', img)"
   ]
  },
  {
   "cell_type": "markdown",
   "metadata": {},
   "source": [
    "* The above function performs a series of preprocessing steps on input image by reshaping and flattening. Then it feeds the processed image to the model for it to predict"
   ]
  },
  {
   "cell_type": "markdown",
   "metadata": {},
   "source": [
    "### Detecting objects through webcam\n",
    "\n",
    "The below code is used to detect objects through webcam. To capture a video, we need to create a VideoCapture object. Its argument can be either the device index or the name of a video file. Device index is just the number to specify which camera. Normally one camera will be connected (as in my case). So I simply pass 0 (or -1). You can select the second camera by passing 1 and so on. After that, you can capture frame-by-frame."
   ]
  },
  {
   "cell_type": "code",
   "execution_count": 25,
   "metadata": {
    "colab": {},
    "colab_type": "code",
    "id": "9kATb_L4RXxi"
   },
   "outputs": [],
   "source": [
    "# detecting human faces using HAAR cascade [1]\n",
    "face_cascade = cv2.CascadeClassifier('haarcascade_frontalface_default.xml')\n",
    "cap = cv2.VideoCapture(0) # 0 for webcam\n",
    "#cap = cv2.VideoCapture(\"../face_detection.mp4\") # input the name of your video file here\n",
    "\n",
    "while True:\n",
    "    ret, img = cap.read()\n",
    "    gray = cv2.cvtColor(img, cv2.COLOR_BGR2GRAY)\n",
    "    faces = face_cascade.detectMultiScale(gray, 1.3, 5)\n",
    "    for (x, y, w, h) in faces:\n",
    "        cv2.rectangle(img, (x, y), (x + w, y + h), (255, 0, 0), 2)\n",
    "        roi_gray = gray[y:y + h, x:x + w]\n",
    "        roi_color = img[y:y + h, x:x + w]\n",
    "        process_image(roi_gray, img)\n",
    "    if cv2.waitKey(1) & 0xFF == ord('q'):\n",
    "        break\n",
    "cap.release()\n",
    "cv2.destroyAllWindows()"
   ]
  },
  {
   "cell_type": "markdown",
   "metadata": {
    "colab_type": "text",
    "id": "YTtn1EYJIJYu"
   },
   "source": [
    "## Conclusion\n",
    "\n",
    "* We trained our model on 32 layers and around 700 epochs and still the model doesn’t overfit and improved continuously.\n",
    "\n",
    "* Below table summarizes the values and the score that we could produce using the respective combination.\n",
    " \n",
    "Model No. | training accuracy | testing accuracy\n",
    "-----------------|----------------|----------------------\n",
    "CNN Sequential  | 99.7 %          | 57.2%       \n",
    "VGG19 | 99.3 % | 58.0%\n",
    "ResNet | 97.4 % | 62.0 %\n",
    "\n",
    "* ResNet produced the testing accuracy of 62% (Highest in our case). We can improve it more by training it again for some more time."
   ]
  },
  {
   "cell_type": "markdown",
   "metadata": {
    "colab_type": "text",
    "id": "7G99P38-I4H1"
   },
   "source": [
    "## Contribution\n",
    "\n",
    "In the above analysis:\n",
    "\n",
    "- 60% of the work is done by us which includes\n",
    "  * ResNet implementation\n",
    "  * Live webcam code optimization\n",
    "\n",
    "- 40% of the work is taken from web, the links for which are cited below"
   ]
  },
  {
   "cell_type": "markdown",
   "metadata": {
    "colab_type": "text",
    "id": "xRFpGjmFI-V2"
   },
   "source": [
    "## Citations\n",
    "\n",
    "1. For face detection - https://www.youtube.com/watch?v=PmZ29Vta7Vc\n",
    "\n",
    "2. For VGG19 and ResNet - https://github.com/tflearn/tflearn/tree/master/examples/images\n",
    "\n",
    "3. For tflearn - http://tflearn.org/tutorials/\n",
    "\n",
    "4. Article on Facial Emotion Recognition using CNN - http://sefiks.com/2018/01/01/facial-expression-recognition-with-keras/\n",
    "\n",
    "5. VGG19 CNN - https://www.mathworks.com/help/deeplearning/ref/vgg19.html;jsessionid=ccf9599bd865b423281a56299a68"
   ]
  },
  {
   "cell_type": "markdown",
   "metadata": {},
   "source": [
    "## License"
   ]
  },
  {
   "cell_type": "markdown",
   "metadata": {
    "colab_type": "text",
    "id": "S8R1rDrcJCxm"
   },
   "source": [
    "\n",
    "<font size=\"4\">MIT License</font>\n",
    "    \n",
    "<b>Copyright (c) 2019 RUPESH ACHARYA, PREETAM JAIN</b>\n",
    "\n",
    "Permission is hereby granted, free of charge, to any person obtaining a copy\n",
    "of this software and associated documentation files (the \"Software\"), to deal\n",
    "in the Software without restriction, including without limitation the rights\n",
    "to use, copy, modify, merge, publish, distribute, sublicense, and/or sell\n",
    "copies of the Software, and to permit persons to whom the Software is\n",
    "furnished to do so, subject to the following conditions:\n",
    "\n",
    "The above copyright notice and this permission notice shall be included in all\n",
    "copies or substantial portions of the Software.\n",
    "\n",
    "THE SOFTWARE IS PROVIDED \"AS IS\", WITHOUT WARRANTY OF ANY KIND, EXPRESS OR\n",
    "IMPLIED, INCLUDING BUT NOT LIMITED TO THE WARRANTIES OF MERCHANTABILITY,\n",
    "FITNESS FOR A PARTICULAR PURPOSE AND NONINFRINGEMENT. IN NO EVENT SHALL THE\n",
    "AUTHORS OR COPYRIGHT HOLDERS BE LIABLE FOR ANY CLAIM, DAMAGES OR OTHER\n",
    "LIABILITY, WHETHER IN AN ACTION OF CONTRACT, TORT OR OTHERWISE, ARISING FROM,\n",
    "OUT OF OR IN CONNECTION WITH THE SOFTWARE OR THE USE OR OTHER DEALINGS IN THE\n",
    "SOFTWARE."
   ]
  }
 ],
 "metadata": {
  "accelerator": "GPU",
  "colab": {
   "collapsed_sections": [],
   "name": "ResNet_Model.ipynb",
   "provenance": [],
   "version": "0.3.2"
  },
  "kernelspec": {
   "display_name": "Python 3",
   "language": "python",
   "name": "python3"
  },
  "language_info": {
   "codemirror_mode": {
    "name": "ipython",
    "version": 3
   },
   "file_extension": ".py",
   "mimetype": "text/x-python",
   "name": "python",
   "nbconvert_exporter": "python",
   "pygments_lexer": "ipython3",
   "version": "3.6.2"
  }
 },
 "nbformat": 4,
 "nbformat_minor": 1
}
